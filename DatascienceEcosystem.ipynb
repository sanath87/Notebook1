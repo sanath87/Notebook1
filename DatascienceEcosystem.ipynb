{
 "cells": [
  {
   "cell_type": "markdown",
   "id": "3a081e19-c7d3-4484-8026-87260ae7eab6",
   "metadata": {
    "tags": []
   },
   "source": [
    "# Data science Tools and Ecosystem"
   ]
  },
  {
   "cell_type": "markdown",
   "id": "f9bda74d-435c-4117-b49b-c5768ce04213",
   "metadata": {},
   "source": [
    "There is a summery of Data science Tools and Ecosystem in this Notebook."
   ]
  },
  {
   "cell_type": "markdown",
   "id": "7a9348dd-3a4b-4546-81ca-c991ccff665b",
   "metadata": {},
   "source": [
    "**Objectives:**\n",
    "* Popular languages in Data science\n",
    "* Common libraries used in Data Science\n",
    "* Data science Tools\n",
    "* Evaluating simple arithmetic expressions\n",
    "* Conversion hours to minutes"
   ]
  },
  {
   "cell_type": "markdown",
   "id": "7442e707-40bf-4473-96b0-63ce75dd601d",
   "metadata": {},
   "source": [
    "Some of the popular languages that data scientists used are:\n",
    "1. python\n",
    "2. Scala\n",
    "3. julia "
   ]
  },
  {
   "cell_type": "markdown",
   "id": "0d8bdec9-e9b2-46ca-9436-43bc6226b01d",
   "metadata": {},
   "source": [
    "Some of commonly used libraries used by Data scientists include:\n",
    "1. Pandas\n",
    "2. Matplotlib\n",
    "3. NumPy\n"
   ]
  },
  {
   "cell_type": "markdown",
   "id": "335feb7f-4cfb-4605-ab27-e70b5a16da26",
   "metadata": {},
   "source": [
    "|Data science Tools|\n",
    "|------------------|\n",
    "|Jupyter Notebook|\n",
    "|Spyder|\n",
    "|Sublime Text|"
   ]
  },
  {
   "cell_type": "markdown",
   "id": "6460d7e1-4589-44eb-b6e5-91247087e38c",
   "metadata": {},
   "source": [
    "### Below are few examples of Evaluating arithmetic expressions in python"
   ]
  },
  {
   "cell_type": "code",
   "execution_count": 2,
   "id": "7b87c12e-63da-4eba-a5a5-b854155a8f5f",
   "metadata": {
    "tags": []
   },
   "outputs": [
    {
     "data": {
      "text/plain": [
       "17"
      ]
     },
     "execution_count": 2,
     "metadata": {},
     "output_type": "execute_result"
    }
   ],
   "source": [
    "# This is a simple arithmetic expression to multifly and then add integers\n",
    "(3*4)+5\n"
   ]
  },
  {
   "cell_type": "code",
   "execution_count": 4,
   "id": "09efe754-bdf6-45f2-8169-2e0028e14aa9",
   "metadata": {
    "tags": []
   },
   "outputs": [
    {
     "data": {
      "text/plain": [
       "3.3333333333333335"
      ]
     },
     "execution_count": 4,
     "metadata": {},
     "output_type": "execute_result"
    }
   ],
   "source": [
    "# This will convert 200 min to hours by deviding 60\n",
    "200/60 "
   ]
  },
  {
   "cell_type": "markdown",
   "id": "fd11c5f1-d743-45d5-a304-58ac5cd9d5d6",
   "metadata": {},
   "source": [
    "## Author\n",
    "Sanath"
   ]
  },
  {
   "cell_type": "code",
   "execution_count": null,
   "id": "74cdceb6-ad81-4ea6-a90f-62d756a582ad",
   "metadata": {},
   "outputs": [],
   "source": []
  }
 ],
 "metadata": {
  "kernelspec": {
   "display_name": "Python",
   "language": "python",
   "name": "conda-env-python-py"
  },
  "language_info": {
   "codemirror_mode": {
    "name": "ipython",
    "version": 3
   },
   "file_extension": ".py",
   "mimetype": "text/x-python",
   "name": "python",
   "nbconvert_exporter": "python",
   "pygments_lexer": "ipython3",
   "version": "3.7.12"
  }
 },
 "nbformat": 4,
 "nbformat_minor": 5
}
